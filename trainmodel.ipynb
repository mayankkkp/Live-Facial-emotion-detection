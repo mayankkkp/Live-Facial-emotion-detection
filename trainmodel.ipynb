{
 "cells": [
  {
   "cell_type": "code",
   "execution_count": 1,
   "id": "3f9eaaa7-9255-4ef8-a06a-8e20088a571e",
   "metadata": {},
   "outputs": [],
   "source": [
    "from keras.utils import to_categorical\n",
    "from keras_preprocessing.image import load_img\n",
    "from keras.models import Sequential\n",
    "from keras.layers import Dense, Conv2D, Dropout, Flatten, MaxPooling2D\n",
    "import os\n",
    "import pandas as pd\n",
    "import numpy as np"
   ]
  },
  {
   "cell_type": "code",
   "execution_count": 2,
   "id": "34164f35-ec73-433b-b879-919d9efb00aa",
   "metadata": {},
   "outputs": [],
   "source": [
    "TRAIN_DIR = 'images/train'\n",
    "TEST_DIR = 'images/test'"
   ]
  },
  {
   "cell_type": "code",
   "execution_count": 3,
   "id": "d3b6bbb0-bea3-4e7d-85cb-7ad419f00132",
   "metadata": {},
   "outputs": [],
   "source": [
    "def createdataframe(dir):\n",
    "    image_paths = []\n",
    "    labels = []\n",
    "    for label in os.listdir(dir):\n",
    "        for imagename in os.listdir(os.path.join(dir,label)):\n",
    "            image_paths.append(os.path.join(dir,label,imagename))\n",
    "            labels.append(label)\n",
    "        print(label, \"completed\")\n",
    "    return image_paths,labels"
   ]
  },
  {
   "cell_type": "code",
   "execution_count": 4,
   "id": "dfa80e4d-00fe-4d43-88ab-f625c4b61dfb",
   "metadata": {},
   "outputs": [
    {
     "name": "stdout",
     "output_type": "stream",
     "text": [
      "angry completed\n",
      "disgust completed\n",
      "fear completed\n",
      "happy completed\n",
      "neutral completed\n",
      "sad completed\n",
      "surprise completed\n"
     ]
    }
   ],
   "source": [
    "train = pd.DataFrame()\n",
    "train['image'], train['label'] = createdataframe(TRAIN_DIR)"
   ]
  },
  {
   "cell_type": "code",
   "execution_count": 5,
   "id": "d69c3764-9344-4f2b-9409-2b74753380ce",
   "metadata": {},
   "outputs": [
    {
     "name": "stdout",
     "output_type": "stream",
     "text": [
      "                                image     label\n",
      "0            images/train\\angry\\0.jpg     angry\n",
      "1            images/train\\angry\\1.jpg     angry\n",
      "2           images/train\\angry\\10.jpg     angry\n",
      "3        images/train\\angry\\10002.jpg     angry\n",
      "4        images/train\\angry\\10016.jpg     angry\n",
      "...                               ...       ...\n",
      "28816  images/train\\surprise\\9969.jpg  surprise\n",
      "28817  images/train\\surprise\\9985.jpg  surprise\n",
      "28818  images/train\\surprise\\9990.jpg  surprise\n",
      "28819  images/train\\surprise\\9992.jpg  surprise\n",
      "28820  images/train\\surprise\\9996.jpg  surprise\n",
      "\n",
      "[28821 rows x 2 columns]\n"
     ]
    }
   ],
   "source": [
    "print(train)"
   ]
  },
  {
   "cell_type": "code",
   "execution_count": 6,
   "id": "10356710-794a-4181-ac14-4f7e81e04ae8",
   "metadata": {},
   "outputs": [
    {
     "name": "stdout",
     "output_type": "stream",
     "text": [
      "angry completed\n",
      "disgust completed\n",
      "fear completed\n",
      "happy completed\n",
      "neutral completed\n",
      "sad completed\n",
      "surprise completed\n"
     ]
    }
   ],
   "source": [
    "test = pd.DataFrame()\n",
    "test['image'], test['label'] = createdataframe(TEST_DIR)"
   ]
  },
  {
   "cell_type": "code",
   "execution_count": 7,
   "id": "dbeefbef-4c62-4f88-87c9-9866c0cb24b5",
   "metadata": {},
   "outputs": [
    {
     "name": "stdout",
     "output_type": "stream",
     "text": [
      "                              image     label\n",
      "0       images/test\\angry\\10052.jpg     angry\n",
      "1       images/test\\angry\\10065.jpg     angry\n",
      "2       images/test\\angry\\10079.jpg     angry\n",
      "3       images/test\\angry\\10095.jpg     angry\n",
      "4       images/test\\angry\\10121.jpg     angry\n",
      "...                             ...       ...\n",
      "7061  images/test\\surprise\\9806.jpg  surprise\n",
      "7062  images/test\\surprise\\9830.jpg  surprise\n",
      "7063  images/test\\surprise\\9853.jpg  surprise\n",
      "7064  images/test\\surprise\\9878.jpg  surprise\n",
      "7065   images/test\\surprise\\993.jpg  surprise\n",
      "\n",
      "[7066 rows x 2 columns]\n",
      "0         images/test\\angry\\10052.jpg\n",
      "1         images/test\\angry\\10065.jpg\n",
      "2         images/test\\angry\\10079.jpg\n",
      "3         images/test\\angry\\10095.jpg\n",
      "4         images/test\\angry\\10121.jpg\n",
      "                    ...              \n",
      "7061    images/test\\surprise\\9806.jpg\n",
      "7062    images/test\\surprise\\9830.jpg\n",
      "7063    images/test\\surprise\\9853.jpg\n",
      "7064    images/test\\surprise\\9878.jpg\n",
      "7065     images/test\\surprise\\993.jpg\n",
      "Name: image, Length: 7066, dtype: object\n"
     ]
    }
   ],
   "source": [
    "print(test)\n",
    "print(test['image'])"
   ]
  },
  {
   "cell_type": "code",
   "execution_count": 8,
   "id": "d1157c61-4235-4891-a110-f324ed9d9b35",
   "metadata": {},
   "outputs": [],
   "source": [
    "from tqdm.notebook import tqdm"
   ]
  },
  {
   "cell_type": "code",
   "execution_count": 9,
   "id": "a564139b-9ec9-4018-8f59-62418fec6628",
   "metadata": {},
   "outputs": [],
   "source": [
    "def extract_features(images):\n",
    "    features = []\n",
    "    for image in tqdm(images):\n",
    "        img = load_img(image,grayscale =  True )\n",
    "        img = np.array(img)\n",
    "        features.append(img)\n",
    "    features = np.array(features)\n",
    "    features = features.reshape(len(features),48,48,1)\n",
    "    return features"
   ]
  },
  {
   "cell_type": "code",
   "execution_count": 10,
   "id": "d0213817-535a-4344-81f2-8236540e9032",
   "metadata": {},
   "outputs": [
    {
     "name": "stdout",
     "output_type": "stream",
     "text": [
      "Requirement already satisfied: Pillow in c:\\users\\asus\\appdata\\local\\programs\\python\\python310\\lib\\site-packages (10.0.1)\n",
      "Note: you may need to restart the kernel to use updated packages.\n"
     ]
    },
    {
     "name": "stderr",
     "output_type": "stream",
     "text": [
      "\n",
      "[notice] A new release of pip available: 22.2.2 -> 23.2.1\n",
      "[notice] To update, run: python.exe -m pip install --upgrade pip\n"
     ]
    }
   ],
   "source": [
    "pip install Pillow"
   ]
  },
  {
   "cell_type": "code",
   "execution_count": 11,
   "id": "aae1dada-e83b-4fe8-b056-ddd2ee59bf69",
   "metadata": {},
   "outputs": [
    {
     "data": {
      "application/vnd.jupyter.widget-view+json": {
       "model_id": "deb32c4ec19247eb80949614db88409c",
       "version_major": 2,
       "version_minor": 0
      },
      "text/plain": [
       "  0%|          | 0/28821 [00:00<?, ?it/s]"
      ]
     },
     "metadata": {},
     "output_type": "display_data"
    },
    {
     "name": "stderr",
     "output_type": "stream",
     "text": [
      "C:\\Users\\Asus\\AppData\\Local\\Programs\\Python\\Python310\\lib\\site-packages\\keras_preprocessing\\image\\utils.py:107: UserWarning: grayscale is deprecated. Please use color_mode = \"grayscale\"\n",
      "  warnings.warn('grayscale is deprecated. Please use '\n"
     ]
    }
   ],
   "source": [
    "train_features = extract_features(train['image']) "
   ]
  },
  {
   "cell_type": "code",
   "execution_count": 12,
   "id": "f49d785a-ef7c-4459-b6fb-71387b8e824d",
   "metadata": {},
   "outputs": [
    {
     "data": {
      "application/vnd.jupyter.widget-view+json": {
       "model_id": "8eb4baeb6c2543f1b43d585cab7c1c8a",
       "version_major": 2,
       "version_minor": 0
      },
      "text/plain": [
       "  0%|          | 0/7066 [00:00<?, ?it/s]"
      ]
     },
     "metadata": {},
     "output_type": "display_data"
    }
   ],
   "source": [
    "test_features = extract_features(test['image'])"
   ]
  },
  {
   "cell_type": "code",
   "execution_count": 13,
   "id": "d0387a34-3d51-4b8d-addb-7fe72dd4aa40",
   "metadata": {},
   "outputs": [],
   "source": [
    "x_train = train_features/255.0\n",
    "x_test = test_features/255.0"
   ]
  },
  {
   "cell_type": "code",
   "execution_count": 14,
   "id": "d3276349-7824-4e43-91af-0f48f2a2896b",
   "metadata": {},
   "outputs": [],
   "source": [
    "from sklearn.preprocessing import LabelEncoder"
   ]
  },
  {
   "cell_type": "code",
   "execution_count": 15,
   "id": "77946e8d-f441-4c03-a1bb-b919212177c1",
   "metadata": {},
   "outputs": [
    {
     "data": {
      "text/html": [
       "<style>#sk-container-id-1 {color: black;}#sk-container-id-1 pre{padding: 0;}#sk-container-id-1 div.sk-toggleable {background-color: white;}#sk-container-id-1 label.sk-toggleable__label {cursor: pointer;display: block;width: 100%;margin-bottom: 0;padding: 0.3em;box-sizing: border-box;text-align: center;}#sk-container-id-1 label.sk-toggleable__label-arrow:before {content: \"▸\";float: left;margin-right: 0.25em;color: #696969;}#sk-container-id-1 label.sk-toggleable__label-arrow:hover:before {color: black;}#sk-container-id-1 div.sk-estimator:hover label.sk-toggleable__label-arrow:before {color: black;}#sk-container-id-1 div.sk-toggleable__content {max-height: 0;max-width: 0;overflow: hidden;text-align: left;background-color: #f0f8ff;}#sk-container-id-1 div.sk-toggleable__content pre {margin: 0.2em;color: black;border-radius: 0.25em;background-color: #f0f8ff;}#sk-container-id-1 input.sk-toggleable__control:checked~div.sk-toggleable__content {max-height: 200px;max-width: 100%;overflow: auto;}#sk-container-id-1 input.sk-toggleable__control:checked~label.sk-toggleable__label-arrow:before {content: \"▾\";}#sk-container-id-1 div.sk-estimator input.sk-toggleable__control:checked~label.sk-toggleable__label {background-color: #d4ebff;}#sk-container-id-1 div.sk-label input.sk-toggleable__control:checked~label.sk-toggleable__label {background-color: #d4ebff;}#sk-container-id-1 input.sk-hidden--visually {border: 0;clip: rect(1px 1px 1px 1px);clip: rect(1px, 1px, 1px, 1px);height: 1px;margin: -1px;overflow: hidden;padding: 0;position: absolute;width: 1px;}#sk-container-id-1 div.sk-estimator {font-family: monospace;background-color: #f0f8ff;border: 1px dotted black;border-radius: 0.25em;box-sizing: border-box;margin-bottom: 0.5em;}#sk-container-id-1 div.sk-estimator:hover {background-color: #d4ebff;}#sk-container-id-1 div.sk-parallel-item::after {content: \"\";width: 100%;border-bottom: 1px solid gray;flex-grow: 1;}#sk-container-id-1 div.sk-label:hover label.sk-toggleable__label {background-color: #d4ebff;}#sk-container-id-1 div.sk-serial::before {content: \"\";position: absolute;border-left: 1px solid gray;box-sizing: border-box;top: 0;bottom: 0;left: 50%;z-index: 0;}#sk-container-id-1 div.sk-serial {display: flex;flex-direction: column;align-items: center;background-color: white;padding-right: 0.2em;padding-left: 0.2em;position: relative;}#sk-container-id-1 div.sk-item {position: relative;z-index: 1;}#sk-container-id-1 div.sk-parallel {display: flex;align-items: stretch;justify-content: center;background-color: white;position: relative;}#sk-container-id-1 div.sk-item::before, #sk-container-id-1 div.sk-parallel-item::before {content: \"\";position: absolute;border-left: 1px solid gray;box-sizing: border-box;top: 0;bottom: 0;left: 50%;z-index: -1;}#sk-container-id-1 div.sk-parallel-item {display: flex;flex-direction: column;z-index: 1;position: relative;background-color: white;}#sk-container-id-1 div.sk-parallel-item:first-child::after {align-self: flex-end;width: 50%;}#sk-container-id-1 div.sk-parallel-item:last-child::after {align-self: flex-start;width: 50%;}#sk-container-id-1 div.sk-parallel-item:only-child::after {width: 0;}#sk-container-id-1 div.sk-dashed-wrapped {border: 1px dashed gray;margin: 0 0.4em 0.5em 0.4em;box-sizing: border-box;padding-bottom: 0.4em;background-color: white;}#sk-container-id-1 div.sk-label label {font-family: monospace;font-weight: bold;display: inline-block;line-height: 1.2em;}#sk-container-id-1 div.sk-label-container {text-align: center;}#sk-container-id-1 div.sk-container {/* jupyter's `normalize.less` sets `[hidden] { display: none; }` but bootstrap.min.css set `[hidden] { display: none !important; }` so we also need the `!important` here to be able to override the default hidden behavior on the sphinx rendered scikit-learn.org. See: https://github.com/scikit-learn/scikit-learn/issues/21755 */display: inline-block !important;position: relative;}#sk-container-id-1 div.sk-text-repr-fallback {display: none;}</style><div id=\"sk-container-id-1\" class=\"sk-top-container\"><div class=\"sk-text-repr-fallback\"><pre>LabelEncoder()</pre><b>In a Jupyter environment, please rerun this cell to show the HTML representation or trust the notebook. <br />On GitHub, the HTML representation is unable to render, please try loading this page with nbviewer.org.</b></div><div class=\"sk-container\" hidden><div class=\"sk-item\"><div class=\"sk-estimator sk-toggleable\"><input class=\"sk-toggleable__control sk-hidden--visually\" id=\"sk-estimator-id-1\" type=\"checkbox\" checked><label for=\"sk-estimator-id-1\" class=\"sk-toggleable__label sk-toggleable__label-arrow\">LabelEncoder</label><div class=\"sk-toggleable__content\"><pre>LabelEncoder()</pre></div></div></div></div></div>"
      ],
      "text/plain": [
       "LabelEncoder()"
      ]
     },
     "execution_count": 15,
     "metadata": {},
     "output_type": "execute_result"
    }
   ],
   "source": [
    "le = LabelEncoder()\n",
    "le.fit(train['label'])"
   ]
  },
  {
   "cell_type": "code",
   "execution_count": 16,
   "id": "fee413de-b89c-42be-b709-44683b9bdc57",
   "metadata": {},
   "outputs": [],
   "source": [
    "y_train = le.transform(train['label'])\n",
    "y_test = le.transform(test['label'])"
   ]
  },
  {
   "cell_type": "code",
   "execution_count": 17,
   "id": "1ef4ae09-763f-4b31-bfb7-e3d62c40a077",
   "metadata": {},
   "outputs": [],
   "source": [
    "y_train = to_categorical(y_train,num_classes = 7)\n",
    "y_test = to_categorical(y_test,num_classes = 7)"
   ]
  },
  {
   "cell_type": "code",
   "execution_count": 18,
   "id": "b388b87e-e2c9-4558-87c6-2f2e8e5597fd",
   "metadata": {},
   "outputs": [],
   "source": [
    "model = Sequential()\n",
    "# convolutional layers\n",
    "model.add(Conv2D(128, kernel_size=(3,3), activation='relu', input_shape=(48,48,1)))\n",
    "model.add(MaxPooling2D(pool_size=(2,2)))\n",
    "model.add(Dropout(0.4))\n",
    "\n",
    "model.add(Conv2D(256, kernel_size=(3,3), activation='relu'))\n",
    "model.add(MaxPooling2D(pool_size=(2,2)))\n",
    "model.add(Dropout(0.4))\n",
    "\n",
    "model.add(Conv2D(512, kernel_size=(3,3), activation='relu'))\n",
    "model.add(MaxPooling2D(pool_size=(2,2)))\n",
    "model.add(Dropout(0.4))\n",
    "\n",
    "model.add(Conv2D(512, kernel_size=(3,3), activation='relu'))\n",
    "model.add(MaxPooling2D(pool_size=(2,2)))\n",
    "model.add(Dropout(0.4))\n",
    "\n",
    "model.add(Flatten())\n",
    "# fully connected layers\n",
    "model.add(Dense(512, activation='relu'))\n",
    "model.add(Dropout(0.4))\n",
    "model.add(Dense(256, activation='relu'))\n",
    "model.add(Dropout(0.3))\n",
    "# output layer\n",
    "model.add(Dense(7, activation='softmax'))"
   ]
  },
  {
   "cell_type": "code",
   "execution_count": 19,
   "id": "6e5d562c-9e19-45e8-96c6-6c9ae8fc6280",
   "metadata": {},
   "outputs": [],
   "source": [
    "model.compile(optimizer = 'adam', loss = 'categorical_crossentropy', metrics = 'accuracy' )"
   ]
  },
  {
   "cell_type": "code",
   "execution_count": 20,
   "id": "9a47db0c-582a-4fcb-af82-09ebd54864ec",
   "metadata": {},
   "outputs": [
    {
     "name": "stdout",
     "output_type": "stream",
     "text": [
      "Epoch 1/100\n",
      "226/226 [==============================] - 748s 3s/step - loss: 1.8198 - accuracy: 0.2439 - val_loss: 1.7949 - val_accuracy: 0.2622\n",
      "Epoch 2/100\n",
      "226/226 [==============================] - 715s 3s/step - loss: 1.7544 - accuracy: 0.2724 - val_loss: 1.6471 - val_accuracy: 0.3351\n",
      "Epoch 3/100\n",
      "226/226 [==============================] - 658s 3s/step - loss: 1.6072 - accuracy: 0.3586 - val_loss: 1.5052 - val_accuracy: 0.4413\n",
      "Epoch 4/100\n",
      "226/226 [==============================] - 665s 3s/step - loss: 1.4897 - accuracy: 0.4188 - val_loss: 1.3676 - val_accuracy: 0.4720\n",
      "Epoch 5/100\n",
      "226/226 [==============================] - 660s 3s/step - loss: 1.4220 - accuracy: 0.4490 - val_loss: 1.3158 - val_accuracy: 0.5098\n",
      "Epoch 6/100\n",
      "226/226 [==============================] - 663s 3s/step - loss: 1.3725 - accuracy: 0.4698 - val_loss: 1.2615 - val_accuracy: 0.5209\n",
      "Epoch 7/100\n",
      "226/226 [==============================] - 661s 3s/step - loss: 1.3482 - accuracy: 0.4825 - val_loss: 1.2335 - val_accuracy: 0.5321\n",
      "Epoch 8/100\n",
      "226/226 [==============================] - 656s 3s/step - loss: 1.3133 - accuracy: 0.4987 - val_loss: 1.2078 - val_accuracy: 0.5442\n",
      "Epoch 9/100\n",
      "226/226 [==============================] - 678s 3s/step - loss: 1.2866 - accuracy: 0.5096 - val_loss: 1.2284 - val_accuracy: 0.5392\n",
      "Epoch 10/100\n",
      "226/226 [==============================] - 671s 3s/step - loss: 1.2749 - accuracy: 0.5148 - val_loss: 1.1759 - val_accuracy: 0.5587\n",
      "Epoch 11/100\n",
      "226/226 [==============================] - 639s 3s/step - loss: 1.2502 - accuracy: 0.5192 - val_loss: 1.1538 - val_accuracy: 0.5643\n",
      "Epoch 12/100\n",
      "226/226 [==============================] - 645s 3s/step - loss: 1.2331 - accuracy: 0.5312 - val_loss: 1.1658 - val_accuracy: 0.5546\n",
      "Epoch 13/100\n",
      "226/226 [==============================] - 645s 3s/step - loss: 1.2165 - accuracy: 0.5343 - val_loss: 1.1499 - val_accuracy: 0.5706\n",
      "Epoch 14/100\n",
      "226/226 [==============================] - 645s 3s/step - loss: 1.2089 - accuracy: 0.5403 - val_loss: 1.1281 - val_accuracy: 0.5698\n",
      "Epoch 15/100\n",
      "226/226 [==============================] - 647s 3s/step - loss: 1.1888 - accuracy: 0.5451 - val_loss: 1.1309 - val_accuracy: 0.5693\n",
      "Epoch 16/100\n",
      "226/226 [==============================] - 651s 3s/step - loss: 1.1839 - accuracy: 0.5499 - val_loss: 1.1064 - val_accuracy: 0.5834\n",
      "Epoch 17/100\n",
      "226/226 [==============================] - 662s 3s/step - loss: 1.1690 - accuracy: 0.5550 - val_loss: 1.0979 - val_accuracy: 0.5903\n",
      "Epoch 18/100\n",
      "226/226 [==============================] - 662s 3s/step - loss: 1.1557 - accuracy: 0.5644 - val_loss: 1.0948 - val_accuracy: 0.5869\n",
      "Epoch 19/100\n",
      "226/226 [==============================] - 663s 3s/step - loss: 1.1458 - accuracy: 0.5617 - val_loss: 1.0888 - val_accuracy: 0.5961\n",
      "Epoch 20/100\n",
      "226/226 [==============================] - 667s 3s/step - loss: 1.1405 - accuracy: 0.5680 - val_loss: 1.1004 - val_accuracy: 0.5843\n",
      "Epoch 21/100\n",
      "226/226 [==============================] - 668s 3s/step - loss: 1.1302 - accuracy: 0.5721 - val_loss: 1.0948 - val_accuracy: 0.5843\n",
      "Epoch 22/100\n",
      "226/226 [==============================] - 665s 3s/step - loss: 1.1174 - accuracy: 0.5758 - val_loss: 1.0870 - val_accuracy: 0.5896\n",
      "Epoch 23/100\n",
      "226/226 [==============================] - 663s 3s/step - loss: 1.1126 - accuracy: 0.5753 - val_loss: 1.0834 - val_accuracy: 0.5910\n",
      "Epoch 24/100\n",
      "226/226 [==============================] - 660s 3s/step - loss: 1.1026 - accuracy: 0.5826 - val_loss: 1.0690 - val_accuracy: 0.5992\n",
      "Epoch 25/100\n",
      "226/226 [==============================] - 663s 3s/step - loss: 1.0925 - accuracy: 0.5871 - val_loss: 1.0640 - val_accuracy: 0.6015\n",
      "Epoch 26/100\n",
      "226/226 [==============================] - 661s 3s/step - loss: 1.0898 - accuracy: 0.5884 - val_loss: 1.0642 - val_accuracy: 0.6057\n",
      "Epoch 27/100\n",
      "226/226 [==============================] - 673s 3s/step - loss: 1.0763 - accuracy: 0.5946 - val_loss: 1.0660 - val_accuracy: 0.6040\n",
      "Epoch 28/100\n",
      "226/226 [==============================] - 663s 3s/step - loss: 1.0744 - accuracy: 0.5977 - val_loss: 1.0564 - val_accuracy: 0.6070\n",
      "Epoch 29/100\n",
      "226/226 [==============================] - 661s 3s/step - loss: 1.0647 - accuracy: 0.6010 - val_loss: 1.0574 - val_accuracy: 0.6047\n",
      "Epoch 30/100\n",
      "226/226 [==============================] - 662s 3s/step - loss: 1.0590 - accuracy: 0.5986 - val_loss: 1.0589 - val_accuracy: 0.6032\n",
      "Epoch 31/100\n",
      "226/226 [==============================] - 665s 3s/step - loss: 1.0561 - accuracy: 0.6014 - val_loss: 1.0606 - val_accuracy: 0.6047\n",
      "Epoch 32/100\n",
      "226/226 [==============================] - 667s 3s/step - loss: 1.0443 - accuracy: 0.6040 - val_loss: 1.0558 - val_accuracy: 0.6091\n",
      "Epoch 33/100\n",
      "226/226 [==============================] - 666s 3s/step - loss: 1.0410 - accuracy: 0.6078 - val_loss: 1.0557 - val_accuracy: 0.6059\n",
      "Epoch 34/100\n",
      "226/226 [==============================] - 667s 3s/step - loss: 1.0298 - accuracy: 0.6083 - val_loss: 1.0488 - val_accuracy: 0.6067\n",
      "Epoch 35/100\n",
      "226/226 [==============================] - 663s 3s/step - loss: 1.0228 - accuracy: 0.6135 - val_loss: 1.0422 - val_accuracy: 0.6107\n",
      "Epoch 36/100\n",
      "226/226 [==============================] - 666s 3s/step - loss: 1.0235 - accuracy: 0.6149 - val_loss: 1.0415 - val_accuracy: 0.6142\n",
      "Epoch 37/100\n",
      "226/226 [==============================] - 666s 3s/step - loss: 1.0133 - accuracy: 0.6167 - val_loss: 1.0443 - val_accuracy: 0.6146\n",
      "Epoch 38/100\n",
      "226/226 [==============================] - 663s 3s/step - loss: 1.0083 - accuracy: 0.6166 - val_loss: 1.0418 - val_accuracy: 0.6122\n",
      "Epoch 39/100\n",
      "226/226 [==============================] - 663s 3s/step - loss: 1.0018 - accuracy: 0.6245 - val_loss: 1.0424 - val_accuracy: 0.6122\n",
      "Epoch 40/100\n",
      "226/226 [==============================] - 664s 3s/step - loss: 0.9921 - accuracy: 0.6278 - val_loss: 1.0366 - val_accuracy: 0.6170\n",
      "Epoch 41/100\n",
      "226/226 [==============================] - 665s 3s/step - loss: 0.9836 - accuracy: 0.6277 - val_loss: 1.0415 - val_accuracy: 0.6138\n",
      "Epoch 42/100\n",
      "226/226 [==============================] - 664s 3s/step - loss: 0.9942 - accuracy: 0.6254 - val_loss: 1.0258 - val_accuracy: 0.6231\n",
      "Epoch 43/100\n",
      "226/226 [==============================] - 665s 3s/step - loss: 0.9759 - accuracy: 0.6327 - val_loss: 1.0429 - val_accuracy: 0.6156\n",
      "Epoch 44/100\n",
      "226/226 [==============================] - 679s 3s/step - loss: 0.9692 - accuracy: 0.6384 - val_loss: 1.0478 - val_accuracy: 0.6088\n",
      "Epoch 45/100\n",
      "226/226 [==============================] - 664s 3s/step - loss: 0.9631 - accuracy: 0.6375 - val_loss: 1.0283 - val_accuracy: 0.6197\n",
      "Epoch 46/100\n",
      "226/226 [==============================] - 664s 3s/step - loss: 0.9612 - accuracy: 0.6413 - val_loss: 1.0353 - val_accuracy: 0.6127\n",
      "Epoch 47/100\n",
      "226/226 [==============================] - 667s 3s/step - loss: 0.9432 - accuracy: 0.6450 - val_loss: 1.0278 - val_accuracy: 0.6163\n",
      "Epoch 48/100\n",
      "226/226 [==============================] - 674s 3s/step - loss: 0.9483 - accuracy: 0.6437 - val_loss: 1.0281 - val_accuracy: 0.6217\n",
      "Epoch 49/100\n",
      "226/226 [==============================] - 670s 3s/step - loss: 0.9420 - accuracy: 0.6448 - val_loss: 1.0221 - val_accuracy: 0.6202\n",
      "Epoch 50/100\n",
      "226/226 [==============================] - 666s 3s/step - loss: 0.9424 - accuracy: 0.6487 - val_loss: 1.0296 - val_accuracy: 0.6240\n",
      "Epoch 51/100\n",
      "226/226 [==============================] - 647s 3s/step - loss: 0.9347 - accuracy: 0.6521 - val_loss: 1.0291 - val_accuracy: 0.6228\n",
      "Epoch 52/100\n",
      "226/226 [==============================] - 644s 3s/step - loss: 0.9232 - accuracy: 0.6542 - val_loss: 1.0277 - val_accuracy: 0.6197\n",
      "Epoch 53/100\n",
      "226/226 [==============================] - 650s 3s/step - loss: 0.9251 - accuracy: 0.6535 - val_loss: 1.0322 - val_accuracy: 0.6179\n",
      "Epoch 54/100\n",
      "226/226 [==============================] - 644s 3s/step - loss: 0.9237 - accuracy: 0.6541 - val_loss: 1.0221 - val_accuracy: 0.6275\n",
      "Epoch 55/100\n",
      "226/226 [==============================] - 649s 3s/step - loss: 0.9219 - accuracy: 0.6551 - val_loss: 1.0228 - val_accuracy: 0.6241\n",
      "Epoch 56/100\n",
      "226/226 [==============================] - 642s 3s/step - loss: 0.8997 - accuracy: 0.6636 - val_loss: 1.0307 - val_accuracy: 0.6260\n",
      "Epoch 57/100\n",
      "226/226 [==============================] - 641s 3s/step - loss: 0.9010 - accuracy: 0.6619 - val_loss: 1.0233 - val_accuracy: 0.6228\n",
      "Epoch 58/100\n",
      "226/226 [==============================] - 643s 3s/step - loss: 0.9069 - accuracy: 0.6619 - val_loss: 1.0132 - val_accuracy: 0.6275\n",
      "Epoch 59/100\n",
      "226/226 [==============================] - 664s 3s/step - loss: 0.8965 - accuracy: 0.6656 - val_loss: 1.0228 - val_accuracy: 0.6295\n",
      "Epoch 60/100\n",
      "226/226 [==============================] - 647s 3s/step - loss: 0.8897 - accuracy: 0.6695 - val_loss: 1.0209 - val_accuracy: 0.6231\n",
      "Epoch 61/100\n",
      "226/226 [==============================] - 643s 3s/step - loss: 0.8903 - accuracy: 0.6708 - val_loss: 1.0214 - val_accuracy: 0.6258\n",
      "Epoch 62/100\n",
      "226/226 [==============================] - 647s 3s/step - loss: 0.8796 - accuracy: 0.6706 - val_loss: 1.0276 - val_accuracy: 0.6309\n",
      "Epoch 63/100\n",
      "226/226 [==============================] - 646s 3s/step - loss: 0.8880 - accuracy: 0.6693 - val_loss: 1.0336 - val_accuracy: 0.6265\n",
      "Epoch 64/100\n",
      "226/226 [==============================] - 650s 3s/step - loss: 0.8719 - accuracy: 0.6764 - val_loss: 1.0191 - val_accuracy: 0.6296\n",
      "Epoch 65/100\n",
      "226/226 [==============================] - 649s 3s/step - loss: 0.8720 - accuracy: 0.6768 - val_loss: 1.0213 - val_accuracy: 0.6281\n",
      "Epoch 66/100\n",
      "226/226 [==============================] - 647s 3s/step - loss: 0.8672 - accuracy: 0.6774 - val_loss: 1.0148 - val_accuracy: 0.6322\n",
      "Epoch 67/100\n",
      "226/226 [==============================] - 646s 3s/step - loss: 0.8521 - accuracy: 0.6845 - val_loss: 1.0295 - val_accuracy: 0.6210\n",
      "Epoch 68/100\n",
      "226/226 [==============================] - 653s 3s/step - loss: 0.8557 - accuracy: 0.6837 - val_loss: 1.0166 - val_accuracy: 0.6312\n",
      "Epoch 69/100\n",
      "226/226 [==============================] - 652s 3s/step - loss: 0.8416 - accuracy: 0.6879 - val_loss: 1.0303 - val_accuracy: 0.6291\n",
      "Epoch 70/100\n",
      "226/226 [==============================] - 657s 3s/step - loss: 0.8479 - accuracy: 0.6845 - val_loss: 1.0284 - val_accuracy: 0.6250\n",
      "Epoch 71/100\n",
      "226/226 [==============================] - 673s 3s/step - loss: 0.8355 - accuracy: 0.6908 - val_loss: 1.0290 - val_accuracy: 0.6262\n",
      "Epoch 72/100\n",
      "226/226 [==============================] - 660s 3s/step - loss: 0.8357 - accuracy: 0.6903 - val_loss: 1.0390 - val_accuracy: 0.6268\n",
      "Epoch 73/100\n",
      "226/226 [==============================] - 655s 3s/step - loss: 0.8415 - accuracy: 0.6863 - val_loss: 1.0218 - val_accuracy: 0.6252\n",
      "Epoch 74/100\n",
      "226/226 [==============================] - 652s 3s/step - loss: 0.8245 - accuracy: 0.6950 - val_loss: 1.0293 - val_accuracy: 0.6257\n",
      "Epoch 75/100\n",
      "226/226 [==============================] - 659s 3s/step - loss: 0.8220 - accuracy: 0.6960 - val_loss: 1.0267 - val_accuracy: 0.6234\n",
      "Epoch 76/100\n",
      "226/226 [==============================] - 652s 3s/step - loss: 0.8224 - accuracy: 0.6944 - val_loss: 1.0428 - val_accuracy: 0.6177\n",
      "Epoch 77/100\n",
      "226/226 [==============================] - 654s 3s/step - loss: 0.8149 - accuracy: 0.6993 - val_loss: 1.0279 - val_accuracy: 0.6275\n",
      "Epoch 78/100\n",
      "226/226 [==============================] - 654s 3s/step - loss: 0.8149 - accuracy: 0.6994 - val_loss: 1.0222 - val_accuracy: 0.6286\n",
      "Epoch 79/100\n",
      "226/226 [==============================] - 656s 3s/step - loss: 0.8027 - accuracy: 0.7033 - val_loss: 1.0243 - val_accuracy: 0.6315\n",
      "Epoch 80/100\n",
      "226/226 [==============================] - 654s 3s/step - loss: 0.7997 - accuracy: 0.7044 - val_loss: 1.0270 - val_accuracy: 0.6260\n",
      "Epoch 81/100\n",
      "226/226 [==============================] - 651s 3s/step - loss: 0.7969 - accuracy: 0.7080 - val_loss: 1.0137 - val_accuracy: 0.6289\n",
      "Epoch 82/100\n",
      "226/226 [==============================] - 659s 3s/step - loss: 0.8060 - accuracy: 0.7029 - val_loss: 1.0204 - val_accuracy: 0.6264\n",
      "Epoch 83/100\n",
      "226/226 [==============================] - 668s 3s/step - loss: 0.8003 - accuracy: 0.7039 - val_loss: 1.0266 - val_accuracy: 0.6318\n",
      "Epoch 84/100\n",
      "226/226 [==============================] - 679s 3s/step - loss: 0.7952 - accuracy: 0.7118 - val_loss: 1.0325 - val_accuracy: 0.6233\n",
      "Epoch 85/100\n",
      "226/226 [==============================] - 655s 3s/step - loss: 0.7914 - accuracy: 0.7103 - val_loss: 1.0306 - val_accuracy: 0.6277\n",
      "Epoch 86/100\n",
      "226/226 [==============================] - 658s 3s/step - loss: 0.7828 - accuracy: 0.7139 - val_loss: 1.0313 - val_accuracy: 0.6333\n",
      "Epoch 87/100\n",
      "226/226 [==============================] - 657s 3s/step - loss: 0.7776 - accuracy: 0.7147 - val_loss: 1.0370 - val_accuracy: 0.6312\n",
      "Epoch 88/100\n",
      "226/226 [==============================] - 667s 3s/step - loss: 0.7769 - accuracy: 0.7156 - val_loss: 1.0320 - val_accuracy: 0.6313\n",
      "Epoch 89/100\n",
      "226/226 [==============================] - 657s 3s/step - loss: 0.7635 - accuracy: 0.7198 - val_loss: 1.0345 - val_accuracy: 0.6302\n",
      "Epoch 90/100\n",
      "226/226 [==============================] - 659s 3s/step - loss: 0.7636 - accuracy: 0.7210 - val_loss: 1.0540 - val_accuracy: 0.6306\n",
      "Epoch 91/100\n",
      "226/226 [==============================] - 663s 3s/step - loss: 0.7687 - accuracy: 0.7198 - val_loss: 1.0302 - val_accuracy: 0.6301\n",
      "Epoch 92/100\n",
      "226/226 [==============================] - 661s 3s/step - loss: 0.7638 - accuracy: 0.7223 - val_loss: 1.0458 - val_accuracy: 0.6323\n",
      "Epoch 93/100\n",
      "226/226 [==============================] - 662s 3s/step - loss: 0.7607 - accuracy: 0.7237 - val_loss: 1.0314 - val_accuracy: 0.6302\n",
      "Epoch 94/100\n",
      "226/226 [==============================] - 662s 3s/step - loss: 0.7447 - accuracy: 0.7287 - val_loss: 1.0344 - val_accuracy: 0.6295\n",
      "Epoch 95/100\n",
      "226/226 [==============================] - 661s 3s/step - loss: 0.7445 - accuracy: 0.7263 - val_loss: 1.0252 - val_accuracy: 0.6401\n",
      "Epoch 96/100\n",
      "226/226 [==============================] - 661s 3s/step - loss: 0.7435 - accuracy: 0.7315 - val_loss: 1.0372 - val_accuracy: 0.6356\n",
      "Epoch 97/100\n",
      "226/226 [==============================] - 664s 3s/step - loss: 0.7372 - accuracy: 0.7322 - val_loss: 1.0415 - val_accuracy: 0.6265\n",
      "Epoch 98/100\n",
      "226/226 [==============================] - 671s 3s/step - loss: 0.7371 - accuracy: 0.7303 - val_loss: 1.0422 - val_accuracy: 0.6237\n",
      "Epoch 99/100\n",
      "226/226 [==============================] - 668s 3s/step - loss: 0.7404 - accuracy: 0.7269 - val_loss: 1.0418 - val_accuracy: 0.6282\n",
      "Epoch 100/100\n",
      "226/226 [==============================] - 665s 3s/step - loss: 0.7377 - accuracy: 0.7303 - val_loss: 1.0461 - val_accuracy: 0.6318\n"
     ]
    },
    {
     "data": {
      "text/plain": [
       "<keras.src.callbacks.History at 0x15f5f125a50>"
      ]
     },
     "execution_count": 20,
     "metadata": {},
     "output_type": "execute_result"
    }
   ],
   "source": [
    "model.fit(x= x_train,y = y_train, batch_size = 128, epochs = 100, validation_data = (x_test,y_test)) "
   ]
  },
  {
   "cell_type": "code",
   "execution_count": 21,
   "id": "782065e6-29e3-4ea3-9833-4c5391e5ef0c",
   "metadata": {},
   "outputs": [
    {
     "name": "stderr",
     "output_type": "stream",
     "text": [
      "C:\\Users\\Asus\\AppData\\Local\\Programs\\Python\\Python310\\lib\\site-packages\\keras\\src\\engine\\training.py:3079: UserWarning: You are saving your model as an HDF5 file via `model.save()`. This file format is considered legacy. We recommend using instead the native Keras format, e.g. `model.save('my_model.keras')`.\n",
      "  saving_api.save_model(\n"
     ]
    }
   ],
   "source": [
    "model_json = model.to_json()\n",
    "with open(\"emotiondetector.json\",'w') as json_file:\n",
    "    json_file.write(model_json)\n",
    "model.save(\"emotiondetector.h5\")"
   ]
  },
  {
   "cell_type": "code",
   "execution_count": 8,
   "id": "ad4dc438-6463-4983-9f7a-cc99fabb505c",
   "metadata": {},
   "outputs": [],
   "source": [
    "from keras.models import model_from_json"
   ]
  },
  {
   "cell_type": "code",
   "execution_count": 9,
   "id": "37b22921-1b44-47d3-b513-5e92e363b2c8",
   "metadata": {},
   "outputs": [],
   "source": [
    "json_file = open(\"emotiondetector.json\", \"r\")\n",
    "model_json = json_file.read()\n",
    "json_file.close()\n",
    "model = model_from_json(model_json)\n",
    "model.load_weights(\"emotiondetector.h5\")"
   ]
  },
  {
   "cell_type": "code",
   "execution_count": 10,
   "id": "98b5c88d-b202-4a28-ab3c-323baa9dca2a",
   "metadata": {},
   "outputs": [],
   "source": [
    "label = ['angry','disgust','fear','happy','neutral','sad','surprise']"
   ]
  },
  {
   "cell_type": "code",
   "execution_count": 16,
   "id": "e37e4fdb-ac81-46e3-8096-67f7782fcf53",
   "metadata": {},
   "outputs": [
    {
     "name": "stdout",
     "output_type": "stream",
     "text": [
      "Requirement already satisfied: matplotlib in c:\\users\\asus\\appdata\\local\\programs\\python\\python310\\lib\\site-packages (3.8.0)\n",
      "Requirement already satisfied: kiwisolver>=1.0.1 in c:\\users\\asus\\appdata\\local\\programs\\python\\python310\\lib\\site-packages (from matplotlib) (1.4.5)\n",
      "Requirement already satisfied: pillow>=6.2.0 in c:\\users\\asus\\appdata\\local\\programs\\python\\python310\\lib\\site-packages (from matplotlib) (10.0.1)\n",
      "Requirement already satisfied: pyparsing>=2.3.1 in c:\\users\\asus\\appdata\\local\\programs\\python\\python310\\lib\\site-packages (from matplotlib) (3.0.9)\n",
      "Requirement already satisfied: contourpy>=1.0.1 in c:\\users\\asus\\appdata\\local\\programs\\python\\python310\\lib\\site-packages (from matplotlib) (1.1.1)\n",
      "Requirement already satisfied: packaging>=20.0 in c:\\users\\asus\\appdata\\local\\programs\\python\\python310\\lib\\site-packages (from matplotlib) (21.3)\n",
      "Requirement already satisfied: numpy<2,>=1.21 in c:\\users\\asus\\appdata\\local\\programs\\python\\python310\\lib\\site-packages (from matplotlib) (1.26.0)\n",
      "Requirement already satisfied: python-dateutil>=2.7 in c:\\users\\asus\\appdata\\local\\programs\\python\\python310\\lib\\site-packages (from matplotlib) (2.8.2)\n",
      "Requirement already satisfied: fonttools>=4.22.0 in c:\\users\\asus\\appdata\\local\\programs\\python\\python310\\lib\\site-packages (from matplotlib) (4.43.0)\n",
      "Requirement already satisfied: cycler>=0.10 in c:\\users\\asus\\appdata\\local\\programs\\python\\python310\\lib\\site-packages (from matplotlib) (0.12.0)\n",
      "Requirement already satisfied: six>=1.5 in c:\\users\\asus\\appdata\\local\\programs\\python\\python310\\lib\\site-packages (from python-dateutil>=2.7->matplotlib) (1.16.0)\n",
      "Note: you may need to restart the kernel to use updated packages.\n"
     ]
    },
    {
     "name": "stderr",
     "output_type": "stream",
     "text": [
      "\n",
      "[notice] A new release of pip available: 22.2.2 -> 23.2.1\n",
      "[notice] To update, run: python.exe -m pip install --upgrade pip\n"
     ]
    }
   ],
   "source": [
    "pip install matplotlib"
   ]
  },
  {
   "cell_type": "code",
   "execution_count": null,
   "id": "1873f015-e9a7-4340-afc8-1422be4b0a2b",
   "metadata": {},
   "outputs": [],
   "source": []
  }
 ],
 "metadata": {
  "kernelspec": {
   "display_name": "Python 3 (ipykernel)",
   "language": "python",
   "name": "python3"
  },
  "language_info": {
   "codemirror_mode": {
    "name": "ipython",
    "version": 3
   },
   "file_extension": ".py",
   "mimetype": "text/x-python",
   "name": "python",
   "nbconvert_exporter": "python",
   "pygments_lexer": "ipython3",
   "version": "3.10.7"
  }
 },
 "nbformat": 4,
 "nbformat_minor": 5
}
